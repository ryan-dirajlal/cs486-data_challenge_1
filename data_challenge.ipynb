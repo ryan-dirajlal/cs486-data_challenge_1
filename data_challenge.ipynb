{
 "cells": [
  {
   "cell_type": "markdown",
   "id": "63249001-bdb3-4f22-aad7-c07acf6f2b27",
   "metadata": {},
   "source": [
    "# Reading in and understanding the data #"
   ]
  },
  {
   "cell_type": "code",
   "execution_count": 400,
   "id": "329823f6-2c81-484e-a8d8-e911be6604ca",
   "metadata": {},
   "outputs": [
    {
     "data": {
      "text/html": [
       "<div>\n",
       "<style scoped>\n",
       "    .dataframe tbody tr th:only-of-type {\n",
       "        vertical-align: middle;\n",
       "    }\n",
       "\n",
       "    .dataframe tbody tr th {\n",
       "        vertical-align: top;\n",
       "    }\n",
       "\n",
       "    .dataframe thead th {\n",
       "        text-align: right;\n",
       "    }\n",
       "</style>\n",
       "<table border=\"1\" class=\"dataframe\">\n",
       "  <thead>\n",
       "    <tr style=\"text-align: right;\">\n",
       "      <th></th>\n",
       "      <th>Year</th>\n",
       "      <th>Country</th>\n",
       "      <th>Happiness Rank</th>\n",
       "      <th>Happiness Score</th>\n",
       "      <th>Economy (GDP per Capita)</th>\n",
       "      <th>Family</th>\n",
       "      <th>Health (Life Expectancy)</th>\n",
       "      <th>Freedom</th>\n",
       "      <th>Trust (Government Corruption)</th>\n",
       "      <th>Generosity</th>\n",
       "      <th>Population Estimate</th>\n",
       "      <th>Region</th>\n",
       "    </tr>\n",
       "  </thead>\n",
       "  <tbody>\n",
       "    <tr>\n",
       "      <th>0</th>\n",
       "      <td>2016</td>\n",
       "      <td>France</td>\n",
       "      <td>32</td>\n",
       "      <td>6.478</td>\n",
       "      <td>6.559000</td>\n",
       "      <td>1.394880</td>\n",
       "      <td>1.005080</td>\n",
       "      <td>0.837950</td>\n",
       "      <td>0.465620</td>\n",
       "      <td>0.178080</td>\n",
       "      <td>74264176</td>\n",
       "      <td>Europe &amp; Central Asia</td>\n",
       "    </tr>\n",
       "    <tr>\n",
       "      <th>1</th>\n",
       "      <td>2018</td>\n",
       "      <td>Venezuela</td>\n",
       "      <td>102</td>\n",
       "      <td>4.806</td>\n",
       "      <td>0.996000</td>\n",
       "      <td>1.469000</td>\n",
       "      <td>0.657000</td>\n",
       "      <td>0.133000</td>\n",
       "      <td>0.052000</td>\n",
       "      <td>0.056000</td>\n",
       "      <td>29174393</td>\n",
       "      <td>Latin America &amp; Caribbean</td>\n",
       "    </tr>\n",
       "    <tr>\n",
       "      <th>2</th>\n",
       "      <td>2019</td>\n",
       "      <td>Costa Rica</td>\n",
       "      <td>12</td>\n",
       "      <td>7.167</td>\n",
       "      <td>1.034000</td>\n",
       "      <td>1.441000</td>\n",
       "      <td>0.963000</td>\n",
       "      <td>0.558000</td>\n",
       "      <td>0.093000</td>\n",
       "      <td>0.144000</td>\n",
       "      <td>4657652</td>\n",
       "      <td>Latin America &amp; Caribbean</td>\n",
       "    </tr>\n",
       "    <tr>\n",
       "      <th>3</th>\n",
       "      <td>2019</td>\n",
       "      <td>Bolivia</td>\n",
       "      <td>61</td>\n",
       "      <td>5.779</td>\n",
       "      <td>0.776000</td>\n",
       "      <td>1.209000</td>\n",
       "      <td>0.706000</td>\n",
       "      <td>0.511000</td>\n",
       "      <td>0.064000</td>\n",
       "      <td>0.137000</td>\n",
       "      <td>10286729</td>\n",
       "      <td>Latin America &amp; Caribbean</td>\n",
       "    </tr>\n",
       "    <tr>\n",
       "      <th>4</th>\n",
       "      <td>2016</td>\n",
       "      <td>Nicaragua</td>\n",
       "      <td>48</td>\n",
       "      <td>5.992</td>\n",
       "      <td>6.107000</td>\n",
       "      <td>0.693840</td>\n",
       "      <td>0.895210</td>\n",
       "      <td>0.652130</td>\n",
       "      <td>0.465820</td>\n",
       "      <td>0.162920</td>\n",
       "      <td>5994622</td>\n",
       "      <td>Latin America &amp; Caribbean</td>\n",
       "    </tr>\n",
       "    <tr>\n",
       "      <th>...</th>\n",
       "      <td>...</td>\n",
       "      <td>...</td>\n",
       "      <td>...</td>\n",
       "      <td>...</td>\n",
       "      <td>...</td>\n",
       "      <td>...</td>\n",
       "      <td>...</td>\n",
       "      <td>...</td>\n",
       "      <td>...</td>\n",
       "      <td>...</td>\n",
       "      <td>...</td>\n",
       "      <td>...</td>\n",
       "    </tr>\n",
       "    <tr>\n",
       "      <th>237</th>\n",
       "      <td>2017</td>\n",
       "      <td>Philippines</td>\n",
       "      <td>72</td>\n",
       "      <td>5.430</td>\n",
       "      <td>5.314665</td>\n",
       "      <td>0.857699</td>\n",
       "      <td>1.253918</td>\n",
       "      <td>0.468009</td>\n",
       "      <td>0.585215</td>\n",
       "      <td>0.193513</td>\n",
       "      <td>99766788</td>\n",
       "      <td>East Asia &amp; Pacific</td>\n",
       "    </tr>\n",
       "    <tr>\n",
       "      <th>238</th>\n",
       "      <td>2018</td>\n",
       "      <td>United Kingdom</td>\n",
       "      <td>11</td>\n",
       "      <td>7.190</td>\n",
       "      <td>1.244000</td>\n",
       "      <td>1.433000</td>\n",
       "      <td>0.888000</td>\n",
       "      <td>0.464000</td>\n",
       "      <td>0.082000</td>\n",
       "      <td>0.262000</td>\n",
       "      <td>73917008</td>\n",
       "      <td>Europe &amp; Central Asia</td>\n",
       "    </tr>\n",
       "    <tr>\n",
       "      <th>239</th>\n",
       "      <td>2017</td>\n",
       "      <td>Ethiopia</td>\n",
       "      <td>119</td>\n",
       "      <td>4.460</td>\n",
       "      <td>4.377271</td>\n",
       "      <td>0.339234</td>\n",
       "      <td>0.864669</td>\n",
       "      <td>0.353410</td>\n",
       "      <td>0.408843</td>\n",
       "      <td>0.312651</td>\n",
       "      <td>78815294</td>\n",
       "      <td>Sub-Saharan Africa</td>\n",
       "    </tr>\n",
       "    <tr>\n",
       "      <th>240</th>\n",
       "      <td>2019</td>\n",
       "      <td>India</td>\n",
       "      <td>140</td>\n",
       "      <td>4.015</td>\n",
       "      <td>0.755000</td>\n",
       "      <td>0.765000</td>\n",
       "      <td>0.588000</td>\n",
       "      <td>0.498000</td>\n",
       "      <td>0.085000</td>\n",
       "      <td>0.200000</td>\n",
       "      <td>1260422331</td>\n",
       "      <td>South Asia</td>\n",
       "    </tr>\n",
       "    <tr>\n",
       "      <th>241</th>\n",
       "      <td>2015</td>\n",
       "      <td>Liberia</td>\n",
       "      <td>116</td>\n",
       "      <td>4.571</td>\n",
       "      <td>0.071200</td>\n",
       "      <td>0.789680</td>\n",
       "      <td>0.342010</td>\n",
       "      <td>0.285310</td>\n",
       "      <td>0.062320</td>\n",
       "      <td>0.243620</td>\n",
       "      <td>3236756</td>\n",
       "      <td>Sub-Saharan Africa</td>\n",
       "    </tr>\n",
       "  </tbody>\n",
       "</table>\n",
       "<p>242 rows × 12 columns</p>\n",
       "</div>"
      ],
      "text/plain": [
       "     Year         Country  Happiness Rank  Happiness Score  \\\n",
       "0    2016          France              32            6.478   \n",
       "1    2018       Venezuela             102            4.806   \n",
       "2    2019      Costa Rica              12            7.167   \n",
       "3    2019         Bolivia              61            5.779   \n",
       "4    2016       Nicaragua              48            5.992   \n",
       "..    ...             ...             ...              ...   \n",
       "237  2017     Philippines              72            5.430   \n",
       "238  2018  United Kingdom              11            7.190   \n",
       "239  2017        Ethiopia             119            4.460   \n",
       "240  2019           India             140            4.015   \n",
       "241  2015         Liberia             116            4.571   \n",
       "\n",
       "     Economy (GDP per Capita)    Family  Health (Life Expectancy)   Freedom  \\\n",
       "0                    6.559000  1.394880                  1.005080  0.837950   \n",
       "1                    0.996000  1.469000                  0.657000  0.133000   \n",
       "2                    1.034000  1.441000                  0.963000  0.558000   \n",
       "3                    0.776000  1.209000                  0.706000  0.511000   \n",
       "4                    6.107000  0.693840                  0.895210  0.652130   \n",
       "..                        ...       ...                       ...       ...   \n",
       "237                  5.314665  0.857699                  1.253918  0.468009   \n",
       "238                  1.244000  1.433000                  0.888000  0.464000   \n",
       "239                  4.377271  0.339234                  0.864669  0.353410   \n",
       "240                  0.755000  0.765000                  0.588000  0.498000   \n",
       "241                  0.071200  0.789680                  0.342010  0.285310   \n",
       "\n",
       "     Trust (Government Corruption)  Generosity  Population Estimate  \\\n",
       "0                         0.465620    0.178080             74264176   \n",
       "1                         0.052000    0.056000             29174393   \n",
       "2                         0.093000    0.144000              4657652   \n",
       "3                         0.064000    0.137000             10286729   \n",
       "4                         0.465820    0.162920              5994622   \n",
       "..                             ...         ...                  ...   \n",
       "237                       0.585215    0.193513             99766788   \n",
       "238                       0.082000    0.262000             73917008   \n",
       "239                       0.408843    0.312651             78815294   \n",
       "240                       0.085000    0.200000           1260422331   \n",
       "241                       0.062320    0.243620              3236756   \n",
       "\n",
       "                        Region  \n",
       "0        Europe & Central Asia  \n",
       "1    Latin America & Caribbean  \n",
       "2    Latin America & Caribbean  \n",
       "3    Latin America & Caribbean  \n",
       "4    Latin America & Caribbean  \n",
       "..                         ...  \n",
       "237        East Asia & Pacific  \n",
       "238      Europe & Central Asia  \n",
       "239         Sub-Saharan Africa  \n",
       "240                 South Asia  \n",
       "241         Sub-Saharan Africa  \n",
       "\n",
       "[242 rows x 12 columns]"
      ]
     },
     "execution_count": 400,
     "metadata": {},
     "output_type": "execute_result"
    }
   ],
   "source": [
    "import pandas as pd\n",
    "\n",
    "train_x_region = pd.read_csv('train_x_region.csv') #train set\n",
    "test_x_region = pd.read_csv('test_x_region.csv') #test set\n",
    "train_y = pd.read_csv('train_y.csv') #target, what we are predicting\n",
    "train_x_region"
   ]
  },
  {
   "cell_type": "markdown",
   "id": "b62c3c50-3506-40c2-98f7-bed070ff9480",
   "metadata": {},
   "source": [
    "I see there are 242 rows of data containing 12 features"
   ]
  },
  {
   "cell_type": "code",
   "execution_count": 401,
   "id": "2587d7a2-9d26-4654-81e0-5e3280ce1a82",
   "metadata": {},
   "outputs": [
    {
     "data": {
      "text/html": [
       "<div>\n",
       "<style scoped>\n",
       "    .dataframe tbody tr th:only-of-type {\n",
       "        vertical-align: middle;\n",
       "    }\n",
       "\n",
       "    .dataframe tbody tr th {\n",
       "        vertical-align: top;\n",
       "    }\n",
       "\n",
       "    .dataframe thead th {\n",
       "        text-align: right;\n",
       "    }\n",
       "</style>\n",
       "<table border=\"1\" class=\"dataframe\">\n",
       "  <thead>\n",
       "    <tr style=\"text-align: right;\">\n",
       "      <th></th>\n",
       "      <th>Year</th>\n",
       "      <th>Country</th>\n",
       "      <th>Happiness Rank</th>\n",
       "      <th>Happiness Score</th>\n",
       "      <th>Economy (GDP per Capita)</th>\n",
       "      <th>Family</th>\n",
       "      <th>Health (Life Expectancy)</th>\n",
       "      <th>Freedom</th>\n",
       "      <th>Trust (Government Corruption)</th>\n",
       "      <th>Generosity</th>\n",
       "      <th>Population Estimate</th>\n",
       "      <th>Region</th>\n",
       "    </tr>\n",
       "  </thead>\n",
       "  <tbody>\n",
       "    <tr>\n",
       "      <th>0</th>\n",
       "      <td>2015</td>\n",
       "      <td>Uruguay</td>\n",
       "      <td>32</td>\n",
       "      <td>6.485</td>\n",
       "      <td>1.061660</td>\n",
       "      <td>1.208900</td>\n",
       "      <td>0.811600</td>\n",
       "      <td>0.603620</td>\n",
       "      <td>0.245580</td>\n",
       "      <td>0.232400</td>\n",
       "      <td>3997006</td>\n",
       "      <td>Latin America &amp; Caribbean</td>\n",
       "    </tr>\n",
       "    <tr>\n",
       "      <th>1</th>\n",
       "      <td>2017</td>\n",
       "      <td>Brazil</td>\n",
       "      <td>22</td>\n",
       "      <td>6.635</td>\n",
       "      <td>6.544531</td>\n",
       "      <td>1.107353</td>\n",
       "      <td>1.431306</td>\n",
       "      <td>0.616552</td>\n",
       "      <td>0.437454</td>\n",
       "      <td>0.162350</td>\n",
       "      <td>216577789</td>\n",
       "      <td>Latin America &amp; Caribbean</td>\n",
       "    </tr>\n",
       "    <tr>\n",
       "      <th>2</th>\n",
       "      <td>2019</td>\n",
       "      <td>Poland</td>\n",
       "      <td>40</td>\n",
       "      <td>6.182</td>\n",
       "      <td>1.206000</td>\n",
       "      <td>1.438000</td>\n",
       "      <td>0.884000</td>\n",
       "      <td>0.483000</td>\n",
       "      <td>0.050000</td>\n",
       "      <td>0.117000</td>\n",
       "      <td>48520464</td>\n",
       "      <td>Europe &amp; Central Asia</td>\n",
       "    </tr>\n",
       "    <tr>\n",
       "      <th>3</th>\n",
       "      <td>2016</td>\n",
       "      <td>Spain</td>\n",
       "      <td>37</td>\n",
       "      <td>6.361</td>\n",
       "      <td>6.434000</td>\n",
       "      <td>1.342530</td>\n",
       "      <td>1.129450</td>\n",
       "      <td>0.878960</td>\n",
       "      <td>0.375450</td>\n",
       "      <td>0.061370</td>\n",
       "      <td>48608228</td>\n",
       "      <td>Europe &amp; Central Asia</td>\n",
       "    </tr>\n",
       "    <tr>\n",
       "      <th>4</th>\n",
       "      <td>2017</td>\n",
       "      <td>Bulgaria</td>\n",
       "      <td>105</td>\n",
       "      <td>4.714</td>\n",
       "      <td>4.624306</td>\n",
       "      <td>1.161459</td>\n",
       "      <td>1.434379</td>\n",
       "      <td>0.708218</td>\n",
       "      <td>0.289232</td>\n",
       "      <td>0.113178</td>\n",
       "      <td>9603624</td>\n",
       "      <td>Europe &amp; Central Asia</td>\n",
       "    </tr>\n",
       "    <tr>\n",
       "      <th>...</th>\n",
       "      <td>...</td>\n",
       "      <td>...</td>\n",
       "      <td>...</td>\n",
       "      <td>...</td>\n",
       "      <td>...</td>\n",
       "      <td>...</td>\n",
       "      <td>...</td>\n",
       "      <td>...</td>\n",
       "      <td>...</td>\n",
       "      <td>...</td>\n",
       "      <td>...</td>\n",
       "      <td>...</td>\n",
       "    </tr>\n",
       "    <tr>\n",
       "      <th>56</th>\n",
       "      <td>2019</td>\n",
       "      <td>China</td>\n",
       "      <td>93</td>\n",
       "      <td>5.191</td>\n",
       "      <td>1.029000</td>\n",
       "      <td>1.125000</td>\n",
       "      <td>0.893000</td>\n",
       "      <td>0.521000</td>\n",
       "      <td>0.100000</td>\n",
       "      <td>0.058000</td>\n",
       "      <td>1584929709</td>\n",
       "      <td>East Asia &amp; Pacific</td>\n",
       "    </tr>\n",
       "    <tr>\n",
       "      <th>57</th>\n",
       "      <td>2017</td>\n",
       "      <td>Australia</td>\n",
       "      <td>10</td>\n",
       "      <td>7.284</td>\n",
       "      <td>7.211349</td>\n",
       "      <td>1.484415</td>\n",
       "      <td>1.510042</td>\n",
       "      <td>0.843887</td>\n",
       "      <td>0.601607</td>\n",
       "      <td>0.477699</td>\n",
       "      <td>23403215</td>\n",
       "      <td>East Asia &amp; Pacific</td>\n",
       "    </tr>\n",
       "    <tr>\n",
       "      <th>58</th>\n",
       "      <td>2018</td>\n",
       "      <td>Iran</td>\n",
       "      <td>106</td>\n",
       "      <td>4.707</td>\n",
       "      <td>1.059000</td>\n",
       "      <td>0.771000</td>\n",
       "      <td>0.691000</td>\n",
       "      <td>0.459000</td>\n",
       "      <td>0.129000</td>\n",
       "      <td>0.282000</td>\n",
       "      <td>78574546</td>\n",
       "      <td>Middle East &amp; North Africa</td>\n",
       "    </tr>\n",
       "    <tr>\n",
       "      <th>59</th>\n",
       "      <td>2016</td>\n",
       "      <td>Italy</td>\n",
       "      <td>50</td>\n",
       "      <td>5.977</td>\n",
       "      <td>6.056000</td>\n",
       "      <td>1.354950</td>\n",
       "      <td>1.041670</td>\n",
       "      <td>0.851020</td>\n",
       "      <td>0.188270</td>\n",
       "      <td>0.025560</td>\n",
       "      <td>70112681</td>\n",
       "      <td>Europe &amp; Central Asia</td>\n",
       "    </tr>\n",
       "    <tr>\n",
       "      <th>60</th>\n",
       "      <td>2016</td>\n",
       "      <td>Jordan</td>\n",
       "      <td>80</td>\n",
       "      <td>5.303</td>\n",
       "      <td>5.419000</td>\n",
       "      <td>0.996730</td>\n",
       "      <td>0.862160</td>\n",
       "      <td>0.607120</td>\n",
       "      <td>0.360230</td>\n",
       "      <td>0.132970</td>\n",
       "      <td>6071833</td>\n",
       "      <td>Middle East &amp; North Africa</td>\n",
       "    </tr>\n",
       "  </tbody>\n",
       "</table>\n",
       "<p>61 rows × 12 columns</p>\n",
       "</div>"
      ],
      "text/plain": [
       "    Year    Country  Happiness Rank  Happiness Score  \\\n",
       "0   2015    Uruguay              32            6.485   \n",
       "1   2017     Brazil              22            6.635   \n",
       "2   2019     Poland              40            6.182   \n",
       "3   2016      Spain              37            6.361   \n",
       "4   2017   Bulgaria             105            4.714   \n",
       "..   ...        ...             ...              ...   \n",
       "56  2019      China              93            5.191   \n",
       "57  2017  Australia              10            7.284   \n",
       "58  2018       Iran             106            4.707   \n",
       "59  2016      Italy              50            5.977   \n",
       "60  2016     Jordan              80            5.303   \n",
       "\n",
       "    Economy (GDP per Capita)    Family  Health (Life Expectancy)   Freedom  \\\n",
       "0                   1.061660  1.208900                  0.811600  0.603620   \n",
       "1                   6.544531  1.107353                  1.431306  0.616552   \n",
       "2                   1.206000  1.438000                  0.884000  0.483000   \n",
       "3                   6.434000  1.342530                  1.129450  0.878960   \n",
       "4                   4.624306  1.161459                  1.434379  0.708218   \n",
       "..                       ...       ...                       ...       ...   \n",
       "56                  1.029000  1.125000                  0.893000  0.521000   \n",
       "57                  7.211349  1.484415                  1.510042  0.843887   \n",
       "58                  1.059000  0.771000                  0.691000  0.459000   \n",
       "59                  6.056000  1.354950                  1.041670  0.851020   \n",
       "60                  5.419000  0.996730                  0.862160  0.607120   \n",
       "\n",
       "    Trust (Government Corruption)  Generosity  Population Estimate  \\\n",
       "0                        0.245580    0.232400              3997006   \n",
       "1                        0.437454    0.162350            216577789   \n",
       "2                        0.050000    0.117000             48520464   \n",
       "3                        0.375450    0.061370             48608228   \n",
       "4                        0.289232    0.113178              9603624   \n",
       "..                            ...         ...                  ...   \n",
       "56                       0.100000    0.058000           1584929709   \n",
       "57                       0.601607    0.477699             23403215   \n",
       "58                       0.129000    0.282000             78574546   \n",
       "59                       0.188270    0.025560             70112681   \n",
       "60                       0.360230    0.132970              6071833   \n",
       "\n",
       "                        Region  \n",
       "0    Latin America & Caribbean  \n",
       "1    Latin America & Caribbean  \n",
       "2        Europe & Central Asia  \n",
       "3        Europe & Central Asia  \n",
       "4        Europe & Central Asia  \n",
       "..                         ...  \n",
       "56         East Asia & Pacific  \n",
       "57         East Asia & Pacific  \n",
       "58  Middle East & North Africa  \n",
       "59       Europe & Central Asia  \n",
       "60  Middle East & North Africa  \n",
       "\n",
       "[61 rows x 12 columns]"
      ]
     },
     "execution_count": 401,
     "metadata": {},
     "output_type": "execute_result"
    }
   ],
   "source": [
    "test_x_region"
   ]
  },
  {
   "cell_type": "code",
   "execution_count": 402,
   "id": "6912963e-0908-43d8-afed-7625c2daff68",
   "metadata": {},
   "outputs": [
    {
     "data": {
      "text/html": [
       "<div>\n",
       "<style scoped>\n",
       "    .dataframe tbody tr th:only-of-type {\n",
       "        vertical-align: middle;\n",
       "    }\n",
       "\n",
       "    .dataframe tbody tr th {\n",
       "        vertical-align: top;\n",
       "    }\n",
       "\n",
       "    .dataframe thead th {\n",
       "        text-align: right;\n",
       "    }\n",
       "</style>\n",
       "<table border=\"1\" class=\"dataframe\">\n",
       "  <thead>\n",
       "    <tr style=\"text-align: right;\">\n",
       "      <th></th>\n",
       "      <th>Immigration to the United States</th>\n",
       "    </tr>\n",
       "  </thead>\n",
       "  <tbody>\n",
       "    <tr>\n",
       "      <th>0</th>\n",
       "      <td>5473.0</td>\n",
       "    </tr>\n",
       "    <tr>\n",
       "      <th>1</th>\n",
       "      <td>11481.0</td>\n",
       "    </tr>\n",
       "    <tr>\n",
       "      <th>2</th>\n",
       "      <td>2466.0</td>\n",
       "    </tr>\n",
       "    <tr>\n",
       "      <th>3</th>\n",
       "      <td>1425.0</td>\n",
       "    </tr>\n",
       "    <tr>\n",
       "      <th>4</th>\n",
       "      <td>3397.0</td>\n",
       "    </tr>\n",
       "    <tr>\n",
       "      <th>...</th>\n",
       "      <td>...</td>\n",
       "    </tr>\n",
       "    <tr>\n",
       "      <th>237</th>\n",
       "      <td>46542.0</td>\n",
       "    </tr>\n",
       "    <tr>\n",
       "      <th>238</th>\n",
       "      <td>11867.0</td>\n",
       "    </tr>\n",
       "    <tr>\n",
       "      <th>239</th>\n",
       "      <td>15678.0</td>\n",
       "    </tr>\n",
       "    <tr>\n",
       "      <th>240</th>\n",
       "      <td>51139.0</td>\n",
       "    </tr>\n",
       "    <tr>\n",
       "      <th>241</th>\n",
       "      <td>3580.0</td>\n",
       "    </tr>\n",
       "  </tbody>\n",
       "</table>\n",
       "<p>242 rows × 1 columns</p>\n",
       "</div>"
      ],
      "text/plain": [
       "     Immigration to the United States\n",
       "0                              5473.0\n",
       "1                             11481.0\n",
       "2                              2466.0\n",
       "3                              1425.0\n",
       "4                              3397.0\n",
       "..                                ...\n",
       "237                           46542.0\n",
       "238                           11867.0\n",
       "239                           15678.0\n",
       "240                           51139.0\n",
       "241                            3580.0\n",
       "\n",
       "[242 rows x 1 columns]"
      ]
     },
     "execution_count": 402,
     "metadata": {},
     "output_type": "execute_result"
    }
   ],
   "source": [
    "train_y"
   ]
  },
  {
   "cell_type": "code",
   "execution_count": 403,
   "id": "0d30d5f6-1028-4a26-96f3-378e7058dd01",
   "metadata": {},
   "outputs": [
    {
     "name": "stdout",
     "output_type": "stream",
     "text": [
      "<class 'pandas.core.frame.DataFrame'>\n",
      "RangeIndex: 61 entries, 0 to 60\n",
      "Data columns (total 12 columns):\n",
      " #   Column                         Non-Null Count  Dtype  \n",
      "---  ------                         --------------  -----  \n",
      " 0   Year                           61 non-null     int64  \n",
      " 1   Country                        61 non-null     object \n",
      " 2   Happiness Rank                 61 non-null     int64  \n",
      " 3   Happiness Score                61 non-null     float64\n",
      " 4   Economy (GDP per Capita)       61 non-null     float64\n",
      " 5   Family                         61 non-null     float64\n",
      " 6   Health (Life Expectancy)       61 non-null     float64\n",
      " 7   Freedom                        61 non-null     float64\n",
      " 8   Trust (Government Corruption)  61 non-null     float64\n",
      " 9   Generosity                     61 non-null     float64\n",
      " 10  Population Estimate            61 non-null     int64  \n",
      " 11  Region                         61 non-null     object \n",
      "dtypes: float64(7), int64(3), object(2)\n",
      "memory usage: 5.8+ KB\n"
     ]
    }
   ],
   "source": [
    "test_x_region.info()"
   ]
  },
  {
   "cell_type": "markdown",
   "id": "409cc5db-0593-4e35-8894-d2d1cb009382",
   "metadata": {},
   "source": [
    "There are 12 columns, two strings (country & region), not missing any data"
   ]
  },
  {
   "cell_type": "code",
   "execution_count": 404,
   "id": "bf1fde71-5dc6-48f9-a616-79ac5b5850ed",
   "metadata": {},
   "outputs": [
    {
     "data": {
      "text/html": [
       "<div>\n",
       "<style scoped>\n",
       "    .dataframe tbody tr th:only-of-type {\n",
       "        vertical-align: middle;\n",
       "    }\n",
       "\n",
       "    .dataframe tbody tr th {\n",
       "        vertical-align: top;\n",
       "    }\n",
       "\n",
       "    .dataframe thead th {\n",
       "        text-align: right;\n",
       "    }\n",
       "</style>\n",
       "<table border=\"1\" class=\"dataframe\">\n",
       "  <thead>\n",
       "    <tr style=\"text-align: right;\">\n",
       "      <th></th>\n",
       "      <th>Year</th>\n",
       "      <th>Happiness Rank</th>\n",
       "      <th>Happiness Score</th>\n",
       "      <th>Economy (GDP per Capita)</th>\n",
       "      <th>Family</th>\n",
       "      <th>Health (Life Expectancy)</th>\n",
       "      <th>Freedom</th>\n",
       "      <th>Trust (Government Corruption)</th>\n",
       "      <th>Generosity</th>\n",
       "      <th>Population Estimate</th>\n",
       "    </tr>\n",
       "  </thead>\n",
       "  <tbody>\n",
       "    <tr>\n",
       "      <th>count</th>\n",
       "      <td>242.000000</td>\n",
       "      <td>242.000000</td>\n",
       "      <td>242.000000</td>\n",
       "      <td>242.000000</td>\n",
       "      <td>242.000000</td>\n",
       "      <td>242.000000</td>\n",
       "      <td>242.000000</td>\n",
       "      <td>242.000000</td>\n",
       "      <td>242.000000</td>\n",
       "      <td>2.420000e+02</td>\n",
       "    </tr>\n",
       "    <tr>\n",
       "      <th>mean</th>\n",
       "      <td>2016.954545</td>\n",
       "      <td>58.037190</td>\n",
       "      <td>5.895496</td>\n",
       "      <td>2.884285</td>\n",
       "      <td>1.172189</td>\n",
       "      <td>0.882891</td>\n",
       "      <td>0.538545</td>\n",
       "      <td>0.258015</td>\n",
       "      <td>0.188854</td>\n",
       "      <td>8.774480e+07</td>\n",
       "    </tr>\n",
       "    <tr>\n",
       "      <th>std</th>\n",
       "      <td>1.435328</td>\n",
       "      <td>41.147073</td>\n",
       "      <td>1.051886</td>\n",
       "      <td>2.456517</td>\n",
       "      <td>0.307805</td>\n",
       "      <td>0.279914</td>\n",
       "      <td>0.177976</td>\n",
       "      <td>0.188388</td>\n",
       "      <td>0.117228</td>\n",
       "      <td>2.584785e+08</td>\n",
       "    </tr>\n",
       "    <tr>\n",
       "      <th>min</th>\n",
       "      <td>2015.000000</td>\n",
       "      <td>1.000000</td>\n",
       "      <td>3.006000</td>\n",
       "      <td>0.071200</td>\n",
       "      <td>0.107060</td>\n",
       "      <td>0.267000</td>\n",
       "      <td>0.013000</td>\n",
       "      <td>0.001000</td>\n",
       "      <td>0.000000</td>\n",
       "      <td>3.011010e+05</td>\n",
       "    </tr>\n",
       "    <tr>\n",
       "      <th>25%</th>\n",
       "      <td>2016.000000</td>\n",
       "      <td>23.000000</td>\n",
       "      <td>5.183750</td>\n",
       "      <td>0.982750</td>\n",
       "      <td>0.975545</td>\n",
       "      <td>0.707388</td>\n",
       "      <td>0.449185</td>\n",
       "      <td>0.083025</td>\n",
       "      <td>0.099000</td>\n",
       "      <td>7.347570e+06</td>\n",
       "    </tr>\n",
       "    <tr>\n",
       "      <th>50%</th>\n",
       "      <td>2017.000000</td>\n",
       "      <td>51.000000</td>\n",
       "      <td>5.946500</td>\n",
       "      <td>1.327460</td>\n",
       "      <td>1.234435</td>\n",
       "      <td>0.874320</td>\n",
       "      <td>0.546675</td>\n",
       "      <td>0.211095</td>\n",
       "      <td>0.162460</td>\n",
       "      <td>1.369083e+07</td>\n",
       "    </tr>\n",
       "    <tr>\n",
       "      <th>75%</th>\n",
       "      <td>2018.000000</td>\n",
       "      <td>88.750000</td>\n",
       "      <td>6.743750</td>\n",
       "      <td>5.377166</td>\n",
       "      <td>1.430750</td>\n",
       "      <td>1.021648</td>\n",
       "      <td>0.642162</td>\n",
       "      <td>0.427625</td>\n",
       "      <td>0.266100</td>\n",
       "      <td>7.318332e+07</td>\n",
       "    </tr>\n",
       "    <tr>\n",
       "      <th>max</th>\n",
       "      <td>2019.000000</td>\n",
       "      <td>156.000000</td>\n",
       "      <td>7.769000</td>\n",
       "      <td>7.590000</td>\n",
       "      <td>1.616463</td>\n",
       "      <td>1.558231</td>\n",
       "      <td>0.952770</td>\n",
       "      <td>0.635423</td>\n",
       "      <td>0.519120</td>\n",
       "      <td>1.567995e+09</td>\n",
       "    </tr>\n",
       "  </tbody>\n",
       "</table>\n",
       "</div>"
      ],
      "text/plain": [
       "              Year  Happiness Rank  Happiness Score  Economy (GDP per Capita)  \\\n",
       "count   242.000000      242.000000       242.000000                242.000000   \n",
       "mean   2016.954545       58.037190         5.895496                  2.884285   \n",
       "std       1.435328       41.147073         1.051886                  2.456517   \n",
       "min    2015.000000        1.000000         3.006000                  0.071200   \n",
       "25%    2016.000000       23.000000         5.183750                  0.982750   \n",
       "50%    2017.000000       51.000000         5.946500                  1.327460   \n",
       "75%    2018.000000       88.750000         6.743750                  5.377166   \n",
       "max    2019.000000      156.000000         7.769000                  7.590000   \n",
       "\n",
       "           Family  Health (Life Expectancy)     Freedom  \\\n",
       "count  242.000000                242.000000  242.000000   \n",
       "mean     1.172189                  0.882891    0.538545   \n",
       "std      0.307805                  0.279914    0.177976   \n",
       "min      0.107060                  0.267000    0.013000   \n",
       "25%      0.975545                  0.707388    0.449185   \n",
       "50%      1.234435                  0.874320    0.546675   \n",
       "75%      1.430750                  1.021648    0.642162   \n",
       "max      1.616463                  1.558231    0.952770   \n",
       "\n",
       "       Trust (Government Corruption)  Generosity  Population Estimate  \n",
       "count                     242.000000  242.000000         2.420000e+02  \n",
       "mean                        0.258015    0.188854         8.774480e+07  \n",
       "std                         0.188388    0.117228         2.584785e+08  \n",
       "min                         0.001000    0.000000         3.011010e+05  \n",
       "25%                         0.083025    0.099000         7.347570e+06  \n",
       "50%                         0.211095    0.162460         1.369083e+07  \n",
       "75%                         0.427625    0.266100         7.318332e+07  \n",
       "max                         0.635423    0.519120         1.567995e+09  "
      ]
     },
     "execution_count": 404,
     "metadata": {},
     "output_type": "execute_result"
    }
   ],
   "source": [
    "train_x_region.describe()"
   ]
  },
  {
   "cell_type": "code",
   "execution_count": 405,
   "id": "707633b7-9800-4721-a57f-e2a615b6a2d0",
   "metadata": {},
   "outputs": [
    {
     "name": "stdout",
     "output_type": "stream",
     "text": [
      "<class 'pandas.core.frame.DataFrame'>\n",
      "RangeIndex: 242 entries, 0 to 241\n",
      "Data columns (total 12 columns):\n",
      " #   Column                         Non-Null Count  Dtype  \n",
      "---  ------                         --------------  -----  \n",
      " 0   Year                           242 non-null    int64  \n",
      " 1   Country                        242 non-null    object \n",
      " 2   Happiness Rank                 242 non-null    int64  \n",
      " 3   Happiness Score                242 non-null    float64\n",
      " 4   Economy (GDP per Capita)       242 non-null    float64\n",
      " 5   Family                         242 non-null    float64\n",
      " 6   Health (Life Expectancy)       242 non-null    float64\n",
      " 7   Freedom                        242 non-null    float64\n",
      " 8   Trust (Government Corruption)  242 non-null    float64\n",
      " 9   Generosity                     242 non-null    float64\n",
      " 10  Population Estimate            242 non-null    int64  \n",
      " 11  Region                         242 non-null    object \n",
      "dtypes: float64(7), int64(3), object(2)\n",
      "memory usage: 22.8+ KB\n"
     ]
    }
   ],
   "source": [
    "train_x_region.info()\n",
    "#no missing data, two strings (country, region)"
   ]
  },
  {
   "cell_type": "markdown",
   "id": "8cc8acc7-e78c-4071-882f-6c759677ecaa",
   "metadata": {},
   "source": [
    "Here, there are 12 columns again. There is no data missing, and there are two strings (country and region)"
   ]
  },
  {
   "cell_type": "code",
   "execution_count": 406,
   "id": "9487abf2-5266-444d-af02-bba25e6b3ebf",
   "metadata": {},
   "outputs": [
    {
     "data": {
      "image/png": "[encoded data removed]",
      "text/plain": [
       "<Figure size 1440x1440 with 12 Axes>"
      ]
     },
     "metadata": {
      "needs_background": "light"
     },
     "output_type": "display_data"
    }
   ],
   "source": [
    "import matplotlib.pyplot as plt\n",
    "\n",
    "train_x_region.hist(bins = 50, figsize = (20, 20))\n",
    "plt.show()"
   ]
  },
  {
   "cell_type": "markdown",
   "id": "b47ffc27-5ca6-4fc1-99ba-33501484e396",
   "metadata": {},
   "source": [
    "Here, I see there are a lot of countries with less trust in their governments and countries that are rated as having a low generosity. This may lead those countries' citizens to immigrate to the USA, though more data is needed.There is also a gap in economy, as it seems countries are either on the low end or the high end of the spectrum with little in-between."
   ]
  },
  {
   "cell_type": "code",
   "execution_count": 407,
   "id": "a374de50-52e8-4a0c-b029-738bf5411cfb",
   "metadata": {},
   "outputs": [
    {
     "data": {
      "text/plain": [
       "Immigration to the United States    1.000000\n",
       "Population Estimate                 0.445795\n",
       "Happiness Rank                      0.126923\n",
       "Year                               -0.017201\n",
       "Economy (GDP per Capita)           -0.030175\n",
       "Freedom                            -0.042866\n",
       "Trust (Government Corruption)      -0.058378\n",
       "Happiness Score                    -0.134443\n",
       "Health (Life Expectancy)           -0.147452\n",
       "Generosity                         -0.170803\n",
       "Family                             -0.186854\n",
       "Name: Immigration to the United States, dtype: float64"
      ]
     },
     "execution_count": 407,
     "metadata": {},
     "output_type": "execute_result"
    }
   ],
   "source": [
    "combined_df = pd.concat([train_y, train_x_region], axis = 1)\n",
    "corr = combined_df.corr()\n",
    "corr['Immigration to the United States'].sort_values(ascending = False)\n",
    "#correlation between train set and what we are trying to predict (immigration to USA)"
   ]
  },
  {
   "cell_type": "markdown",
   "id": "ef2d2dbb-8a12-4187-86af-48214de5a337",
   "metadata": {},
   "source": [
    "The strongest correlation between immigration to the USA and the train_x_region dataset is the population estimate. This may be because larger countries will, by default, have more people immigrating to the US. Immigration to the US represents the number of people moving, not the percentage of a country's population, so a larger population will inflate the immigration numbers."
   ]
  },
  {
   "cell_type": "markdown",
   "id": "b7bb6b22-9907-4d01-9e23-a77e55514e95",
   "metadata": {},
   "source": [
    "# encoding #"
   ]
  },
  {
   "cell_type": "code",
   "execution_count": 408,
   "id": "6cb76c94-16be-41d1-baef-d80c0818b718",
   "metadata": {},
   "outputs": [
    {
     "data": {
      "text/html": [
       "<div>\n",
       "<style scoped>\n",
       "    .dataframe tbody tr th:only-of-type {\n",
       "        vertical-align: middle;\n",
       "    }\n",
       "\n",
       "    .dataframe tbody tr th {\n",
       "        vertical-align: top;\n",
       "    }\n",
       "\n",
       "    .dataframe thead th {\n",
       "        text-align: right;\n",
       "    }\n",
       "</style>\n",
       "<table border=\"1\" class=\"dataframe\">\n",
       "  <thead>\n",
       "    <tr style=\"text-align: right;\">\n",
       "      <th></th>\n",
       "      <th>Immigration to the United States</th>\n",
       "      <th>Year</th>\n",
       "      <th>Happiness Rank</th>\n",
       "      <th>Happiness Score</th>\n",
       "      <th>Economy (GDP per Capita)</th>\n",
       "      <th>Family</th>\n",
       "      <th>Health (Life Expectancy)</th>\n",
       "      <th>Freedom</th>\n",
       "      <th>Trust (Government Corruption)</th>\n",
       "      <th>Generosity</th>\n",
       "      <th>...</th>\n",
       "      <th>Suriname</th>\n",
       "      <th>Sweden</th>\n",
       "      <th>Switzerland</th>\n",
       "      <th>Syria</th>\n",
       "      <th>Taiwan</th>\n",
       "      <th>Turkey</th>\n",
       "      <th>United Kingdom</th>\n",
       "      <th>Uruguay</th>\n",
       "      <th>Venezuela</th>\n",
       "      <th>Vietnam</th>\n",
       "    </tr>\n",
       "  </thead>\n",
       "  <tbody>\n",
       "    <tr>\n",
       "      <th>0</th>\n",
       "      <td>5473.0</td>\n",
       "      <td>2016</td>\n",
       "      <td>32</td>\n",
       "      <td>6.478</td>\n",
       "      <td>6.559000</td>\n",
       "      <td>1.394880</td>\n",
       "      <td>1.005080</td>\n",
       "      <td>0.837950</td>\n",
       "      <td>0.465620</td>\n",
       "      <td>0.178080</td>\n",
       "      <td>...</td>\n",
       "      <td>0</td>\n",
       "      <td>0</td>\n",
       "      <td>0</td>\n",
       "      <td>0</td>\n",
       "      <td>0</td>\n",
       "      <td>0</td>\n",
       "      <td>0</td>\n",
       "      <td>0</td>\n",
       "      <td>0</td>\n",
       "      <td>0</td>\n",
       "    </tr>\n",
       "    <tr>\n",
       "      <th>1</th>\n",
       "      <td>11481.0</td>\n",
       "      <td>2018</td>\n",
       "      <td>102</td>\n",
       "      <td>4.806</td>\n",
       "      <td>0.996000</td>\n",
       "      <td>1.469000</td>\n",
       "      <td>0.657000</td>\n",
       "      <td>0.133000</td>\n",
       "      <td>0.052000</td>\n",
       "      <td>0.056000</td>\n",
       "      <td>...</td>\n",
       "      <td>0</td>\n",
       "      <td>0</td>\n",
       "      <td>0</td>\n",
       "      <td>0</td>\n",
       "      <td>0</td>\n",
       "      <td>0</td>\n",
       "      <td>0</td>\n",
       "      <td>0</td>\n",
       "      <td>1</td>\n",
       "      <td>0</td>\n",
       "    </tr>\n",
       "    <tr>\n",
       "      <th>2</th>\n",
       "      <td>2466.0</td>\n",
       "      <td>2019</td>\n",
       "      <td>12</td>\n",
       "      <td>7.167</td>\n",
       "      <td>1.034000</td>\n",
       "      <td>1.441000</td>\n",
       "      <td>0.963000</td>\n",
       "      <td>0.558000</td>\n",
       "      <td>0.093000</td>\n",
       "      <td>0.144000</td>\n",
       "      <td>...</td>\n",
       "      <td>0</td>\n",
       "      <td>0</td>\n",
       "      <td>0</td>\n",
       "      <td>0</td>\n",
       "      <td>0</td>\n",
       "      <td>0</td>\n",
       "      <td>0</td>\n",
       "      <td>0</td>\n",
       "      <td>0</td>\n",
       "      <td>0</td>\n",
       "    </tr>\n",
       "    <tr>\n",
       "      <th>3</th>\n",
       "      <td>1425.0</td>\n",
       "      <td>2019</td>\n",
       "      <td>61</td>\n",
       "      <td>5.779</td>\n",
       "      <td>0.776000</td>\n",
       "      <td>1.209000</td>\n",
       "      <td>0.706000</td>\n",
       "      <td>0.511000</td>\n",
       "      <td>0.064000</td>\n",
       "      <td>0.137000</td>\n",
       "      <td>...</td>\n",
       "      <td>0</td>\n",
       "      <td>0</td>\n",
       "      <td>0</td>\n",
       "      <td>0</td>\n",
       "      <td>0</td>\n",
       "      <td>0</td>\n",
       "      <td>0</td>\n",
       "      <td>0</td>\n",
       "      <td>0</td>\n",
       "      <td>0</td>\n",
       "    </tr>\n",
       "    <tr>\n",
       "      <th>4</th>\n",
       "      <td>3397.0</td>\n",
       "      <td>2016</td>\n",
       "      <td>48</td>\n",
       "      <td>5.992</td>\n",
       "      <td>6.107000</td>\n",
       "      <td>0.693840</td>\n",
       "      <td>0.895210</td>\n",
       "      <td>0.652130</td>\n",
       "      <td>0.465820</td>\n",
       "      <td>0.162920</td>\n",
       "      <td>...</td>\n",
       "      <td>0</td>\n",
       "      <td>0</td>\n",
       "      <td>0</td>\n",
       "      <td>0</td>\n",
       "      <td>0</td>\n",
       "      <td>0</td>\n",
       "      <td>0</td>\n",
       "      <td>0</td>\n",
       "      <td>0</td>\n",
       "      <td>0</td>\n",
       "    </tr>\n",
       "    <tr>\n",
       "      <th>...</th>\n",
       "      <td>...</td>\n",
       "      <td>...</td>\n",
       "      <td>...</td>\n",
       "      <td>...</td>\n",
       "      <td>...</td>\n",
       "      <td>...</td>\n",
       "      <td>...</td>\n",
       "      <td>...</td>\n",
       "      <td>...</td>\n",
       "      <td>...</td>\n",
       "      <td>...</td>\n",
       "      <td>...</td>\n",
       "      <td>...</td>\n",
       "      <td>...</td>\n",
       "      <td>...</td>\n",
       "      <td>...</td>\n",
       "      <td>...</td>\n",
       "      <td>...</td>\n",
       "      <td>...</td>\n",
       "      <td>...</td>\n",
       "      <td>...</td>\n",
       "    </tr>\n",
       "    <tr>\n",
       "      <th>237</th>\n",
       "      <td>46542.0</td>\n",
       "      <td>2017</td>\n",
       "      <td>72</td>\n",
       "      <td>5.430</td>\n",
       "      <td>5.314665</td>\n",
       "      <td>0.857699</td>\n",
       "      <td>1.253918</td>\n",
       "      <td>0.468009</td>\n",
       "      <td>0.585215</td>\n",
       "      <td>0.193513</td>\n",
       "      <td>...</td>\n",
       "      <td>0</td>\n",
       "      <td>0</td>\n",
       "      <td>0</td>\n",
       "      <td>0</td>\n",
       "      <td>0</td>\n",
       "      <td>0</td>\n",
       "      <td>0</td>\n",
       "      <td>0</td>\n",
       "      <td>0</td>\n",
       "      <td>0</td>\n",
       "    </tr>\n",
       "    <tr>\n",
       "      <th>238</th>\n",
       "      <td>11867.0</td>\n",
       "      <td>2018</td>\n",
       "      <td>11</td>\n",
       "      <td>7.190</td>\n",
       "      <td>1.244000</td>\n",
       "      <td>1.433000</td>\n",
       "      <td>0.888000</td>\n",
       "      <td>0.464000</td>\n",
       "      <td>0.082000</td>\n",
       "      <td>0.262000</td>\n",
       "      <td>...</td>\n",
       "      <td>0</td>\n",
       "      <td>0</td>\n",
       "      <td>0</td>\n",
       "      <td>0</td>\n",
       "      <td>0</td>\n",
       "      <td>0</td>\n",
       "      <td>1</td>\n",
       "      <td>0</td>\n",
       "      <td>0</td>\n",
       "      <td>0</td>\n",
       "    </tr>\n",
       "    <tr>\n",
       "      <th>239</th>\n",
       "      <td>15678.0</td>\n",
       "      <td>2017</td>\n",
       "      <td>119</td>\n",
       "      <td>4.460</td>\n",
       "      <td>4.377271</td>\n",
       "      <td>0.339234</td>\n",
       "      <td>0.864669</td>\n",
       "      <td>0.353410</td>\n",
       "      <td>0.408843</td>\n",
       "      <td>0.312651</td>\n",
       "      <td>...</td>\n",
       "      <td>0</td>\n",
       "      <td>0</td>\n",
       "      <td>0</td>\n",
       "      <td>0</td>\n",
       "      <td>0</td>\n",
       "      <td>0</td>\n",
       "      <td>0</td>\n",
       "      <td>0</td>\n",
       "      <td>0</td>\n",
       "      <td>0</td>\n",
       "    </tr>\n",
       "    <tr>\n",
       "      <th>240</th>\n",
       "      <td>51139.0</td>\n",
       "      <td>2019</td>\n",
       "      <td>140</td>\n",
       "      <td>4.015</td>\n",
       "      <td>0.755000</td>\n",
       "      <td>0.765000</td>\n",
       "      <td>0.588000</td>\n",
       "      <td>0.498000</td>\n",
       "      <td>0.085000</td>\n",
       "      <td>0.200000</td>\n",
       "      <td>...</td>\n",
       "      <td>0</td>\n",
       "      <td>0</td>\n",
       "      <td>0</td>\n",
       "      <td>0</td>\n",
       "      <td>0</td>\n",
       "      <td>0</td>\n",
       "      <td>0</td>\n",
       "      <td>0</td>\n",
       "      <td>0</td>\n",
       "      <td>0</td>\n",
       "    </tr>\n",
       "    <tr>\n",
       "      <th>241</th>\n",
       "      <td>3580.0</td>\n",
       "      <td>2015</td>\n",
       "      <td>116</td>\n",
       "      <td>4.571</td>\n",
       "      <td>0.071200</td>\n",
       "      <td>0.789680</td>\n",
       "      <td>0.342010</td>\n",
       "      <td>0.285310</td>\n",
       "      <td>0.062320</td>\n",
       "      <td>0.243620</td>\n",
       "      <td>...</td>\n",
       "      <td>0</td>\n",
       "      <td>0</td>\n",
       "      <td>0</td>\n",
       "      <td>0</td>\n",
       "      <td>0</td>\n",
       "      <td>0</td>\n",
       "      <td>0</td>\n",
       "      <td>0</td>\n",
       "      <td>0</td>\n",
       "      <td>0</td>\n",
       "    </tr>\n",
       "  </tbody>\n",
       "</table>\n",
       "<p>242 rows × 79 columns</p>\n",
       "</div>"
      ],
      "text/plain": [
       "     Immigration to the United States  Year  Happiness Rank  Happiness Score  \\\n",
       "0                              5473.0  2016              32            6.478   \n",
       "1                             11481.0  2018             102            4.806   \n",
       "2                              2466.0  2019              12            7.167   \n",
       "3                              1425.0  2019              61            5.779   \n",
       "4                              3397.0  2016              48            5.992   \n",
       "..                                ...   ...             ...              ...   \n",
       "237                           46542.0  2017              72            5.430   \n",
       "238                           11867.0  2018              11            7.190   \n",
       "239                           15678.0  2017             119            4.460   \n",
       "240                           51139.0  2019             140            4.015   \n",
       "241                            3580.0  2015             116            4.571   \n",
       "\n",
       "     Economy (GDP per Capita)    Family  Health (Life Expectancy)   Freedom  \\\n",
       "0                    6.559000  1.394880                  1.005080  0.837950   \n",
       "1                    0.996000  1.469000                  0.657000  0.133000   \n",
       "2                    1.034000  1.441000                  0.963000  0.558000   \n",
       "3                    0.776000  1.209000                  0.706000  0.511000   \n",
       "4                    6.107000  0.693840                  0.895210  0.652130   \n",
       "..                        ...       ...                       ...       ...   \n",
       "237                  5.314665  0.857699                  1.253918  0.468009   \n",
       "238                  1.244000  1.433000                  0.888000  0.464000   \n",
       "239                  4.377271  0.339234                  0.864669  0.353410   \n",
       "240                  0.755000  0.765000                  0.588000  0.498000   \n",
       "241                  0.071200  0.789680                  0.342010  0.285310   \n",
       "\n",
       "     Trust (Government Corruption)  Generosity  ...  Suriname  Sweden  \\\n",
       "0                         0.465620    0.178080  ...         0       0   \n",
       "1                         0.052000    0.056000  ...         0       0   \n",
       "2                         0.093000    0.144000  ...         0       0   \n",
       "3                         0.064000    0.137000  ...         0       0   \n",
       "4                         0.465820    0.162920  ...         0       0   \n",
       "..                             ...         ...  ...       ...     ...   \n",
       "237                       0.585215    0.193513  ...         0       0   \n",
       "238                       0.082000    0.262000  ...         0       0   \n",
       "239                       0.408843    0.312651  ...         0       0   \n",
       "240                       0.085000    0.200000  ...         0       0   \n",
       "241                       0.062320    0.243620  ...         0       0   \n",
       "\n",
       "     Switzerland  Syria  Taiwan  Turkey  United Kingdom  Uruguay  Venezuela  \\\n",
       "0              0      0       0       0               0        0          0   \n",
       "1              0      0       0       0               0        0          1   \n",
       "2              0      0       0       0               0        0          0   \n",
       "3              0      0       0       0               0        0          0   \n",
       "4              0      0       0       0               0        0          0   \n",
       "..           ...    ...     ...     ...             ...      ...        ...   \n",
       "237            0      0       0       0               0        0          0   \n",
       "238            0      0       0       0               1        0          0   \n",
       "239            0      0       0       0               0        0          0   \n",
       "240            0      0       0       0               0        0          0   \n",
       "241            0      0       0       0               0        0          0   \n",
       "\n",
       "     Vietnam  \n",
       "0          0  \n",
       "1          0  \n",
       "2          0  \n",
       "3          0  \n",
       "4          0  \n",
       "..       ...  \n",
       "237        0  \n",
       "238        0  \n",
       "239        0  \n",
       "240        0  \n",
       "241        0  \n",
       "\n",
       "[242 rows x 79 columns]"
      ]
     },
     "execution_count": 408,
     "metadata": {},
     "output_type": "execute_result"
    }
   ],
   "source": [
    "from sklearn.preprocessing import LabelBinarizer\n",
    "country = LabelBinarizer()\n",
    "country.fit(combined_df['Country'])\n",
    "transformed_countries = country_encoder.transform(combined_df['Country'])\n",
    "hot_country = pd.DataFrame(transformed_countries, columns=country.classes_)\n",
    "region = LabelBinarizer()\n",
    "region.fit(combined_df['Region'])\n",
    "transformed_regions = region.transform(combined_df['Region'])\n",
    "hot_region = pd.DataFrame(transformed_regions, columns=region.classes_)\n",
    "\n",
    "#changed region and country into numbers\n",
    "\n",
    "#replace old string country and region with new encoding\n",
    "combined_df = pd.concat([combined_df, hot_region, hot_country], axis=1)\n",
    "combined_df.drop(['Country', 'Region'], axis=1, inplace=True) \n",
    "combined_df"
   ]
  },
  {
   "cell_type": "markdown",
   "id": "2a34d58b-45e5-4c9c-8a1c-47d74662ea43",
   "metadata": {},
   "source": [
    "# Part 2, implementing Linear Regression #"
   ]
  },
  {
   "cell_type": "code",
   "execution_count": 409,
   "id": "380371e2-67a2-44ee-86c9-7659f1ec49b5",
   "metadata": {},
   "outputs": [],
   "source": [
    "Y = combined_df['Immigration to the United States'] #target\n",
    "X = combined_df.drop(['Immigration to the United States'], axis=1) #features\n",
    "\n",
    "#training set:\n",
    "trainX = X[50:]\n",
    "trainY= Y[50:]\n",
    "\n",
    "#test set:\n",
    "testX = X[:50] #these are more like validation x and validation y\n",
    "testY = Y[:50]"
   ]
  },
  {
   "cell_type": "code",
   "execution_count": 410,
   "id": "7a4bcd8c-911b-49cb-8373-a561a0b39a53",
   "metadata": {},
   "outputs": [
    {
     "data": {
      "text/plain": [
       "0      5473.0\n",
       "1     11481.0\n",
       "2      2466.0\n",
       "3      1425.0\n",
       "4      3397.0\n",
       "5      8762.0\n",
       "6      1090.0\n",
       "7     13367.0\n",
       "8       637.0\n",
       "9      2377.0\n",
       "10     9074.0\n",
       "11    23185.0\n",
       "12     2560.0\n",
       "13    77658.0\n",
       "14      754.0\n",
       "15     1798.0\n",
       "16     4537.0\n",
       "17     5965.0\n",
       "18     3542.0\n",
       "19      397.0\n",
       "20      349.0\n",
       "21      904.0\n",
       "22     3298.0\n",
       "23    10779.0\n",
       "24      878.0\n",
       "25    57286.0\n",
       "26     1017.0\n",
       "27     4921.0\n",
       "28     1154.0\n",
       "29     3419.0\n",
       "30    10415.0\n",
       "31      911.0\n",
       "32     2121.0\n",
       "33     9135.0\n",
       "34     3014.0\n",
       "35    16830.0\n",
       "36    16787.0\n",
       "37    15172.0\n",
       "38     3191.0\n",
       "39     3569.0\n",
       "40    10006.0\n",
       "41     1133.0\n",
       "42     4760.0\n",
       "43     1037.0\n",
       "44     8219.0\n",
       "45     2722.0\n",
       "46     1537.0\n",
       "47     4085.0\n",
       "48     3337.0\n",
       "49     3210.0\n",
       "Name: Immigration to the United States, dtype: float64"
      ]
     },
     "execution_count": 410,
     "metadata": {},
     "output_type": "execute_result"
    }
   ],
   "source": [
    "testY\n",
    "#just visualizing what we are testing on"
   ]
  },
  {
   "cell_type": "code",
   "execution_count": 411,
   "id": "060ce9ce-e4e4-4781-a1ba-98b448a5054e",
   "metadata": {},
   "outputs": [
    {
     "data": {
      "text/plain": [
       "6702.941088242763"
      ]
     },
     "execution_count": 411,
     "metadata": {},
     "output_type": "execute_result"
    }
   ],
   "source": [
    "#do lienar regression on this data frame\n",
    "\n",
    "import numpy as np\n",
    "from sklearn.linear_model import LinearRegression\n",
    "from sklearn.metrics import mean_squared_error #to see how good the model is\n",
    "from sklearn.metrics import r2_score\n",
    "import math\n",
    "\n",
    "reg = LinearRegression()\n",
    "reg.fit(trainX, trainY)\n",
    "prediction = reg.predict(testX)\n",
    "math.sqrt(mean_squared_error(testY, prediction)) #targets always go first on metrics (test_y), what it will predict"
   ]
  },
  {
   "cell_type": "code",
   "execution_count": 412,
   "id": "4db031cc-fff0-486e-9951-1f85ea9903c4",
   "metadata": {},
   "outputs": [
    {
     "data": {
      "text/plain": [
       "0.7481852167530093"
      ]
     },
     "execution_count": 412,
     "metadata": {},
     "output_type": "execute_result"
    }
   ],
   "source": [
    "#want this as close to 1 as possible\n",
    "r2_score(testY, reg.predict(testX))"
   ]
  },
  {
   "cell_type": "markdown",
   "id": "846878c8-4c37-48f8-a57d-11f5212a68c9",
   "metadata": {},
   "source": [
    "Linear regression has an r2 score of around .75. This is not terrible, but it could probably be better. Below, i will test Ridge and Lasso"
   ]
  },
  {
   "cell_type": "markdown",
   "id": "35ea56dc-1e55-4a4d-a9e1-6eec2010df3b",
   "metadata": {},
   "source": [
    "# RIDGE #"
   ]
  },
  {
   "cell_type": "code",
   "execution_count": 413,
   "id": "b69fdbd6-152e-43fa-ae40-46aaa0a7a5b8",
   "metadata": {},
   "outputs": [
    {
     "data": {
      "text/plain": [
       "14982.010657405972"
      ]
     },
     "execution_count": 413,
     "metadata": {},
     "output_type": "execute_result"
    }
   ],
   "source": [
    "from sklearn.linear_model import Ridge\n",
    "ridge = Ridge(normalize=True,alpha=10000)#when creating instance of ridge, have to tell it what contraint area (Alpha) is. being completely arbituary rn\n",
    "ridge.fit(trainX, trainY)\n",
    "math.sqrt(mean_squared_error(testY, ridge.predict(testX)))\n",
    "\n",
    "\n"
   ]
  },
  {
   "cell_type": "code",
   "execution_count": 414,
   "id": "80e7232c-da4a-473f-a1c6-8ee75d248b3b",
   "metadata": {},
   "outputs": [
    {
     "data": {
      "text/plain": [
       "-0.2580289087950045"
      ]
     },
     "execution_count": 414,
     "metadata": {},
     "output_type": "execute_result"
    }
   ],
   "source": [
    "r2_score(testY, ridge.predict(testX))"
   ]
  },
  {
   "cell_type": "markdown",
   "id": "ef6060dd-c176-492d-a56d-f3d4d7339c8a",
   "metadata": {},
   "source": [
    "The mean squared error is about almost double that of normal linear regression, and the r2 score here is about half the amount. This shows that linear regression is ideal when compared to ridge with an alpha of 10000"
   ]
  },
  {
   "cell_type": "markdown",
   "id": "b37bac12-9a40-4d75-b86b-0d9b3d438c54",
   "metadata": {},
   "source": [
    "# Trying different alphas (grid search) with Ridge #"
   ]
  },
  {
   "cell_type": "code",
   "execution_count": 415,
   "id": "c52c32ee-5971-43cc-99a9-c28d69a834d9",
   "metadata": {},
   "outputs": [
    {
     "data": {
      "text/plain": [
       "GridSearchCV(cv=5, estimator=Ridge(normalize=True),\n",
       "             param_grid={'alpha': [0.001, 0.01, 0.1, 1, 10, 15, 50, 100, 10000,\n",
       "                                   10000]},\n",
       "             scoring='neg_mean_squared_error')"
      ]
     },
     "execution_count": 415,
     "metadata": {},
     "output_type": "execute_result"
    }
   ],
   "source": [
    "from sklearn.model_selection import GridSearchCV\n",
    "#set up a bunch of parameters, which will be all the hyperparameters:\n",
    "params = { 'alpha' : [0.001, 0.01, 0.1, 1, 10, 15, 50, 100, 10000, 10000]} #alpha is a dictionary here\n",
    "#just arbituarily choosing some numbers. \n",
    "\n",
    "ridge = Ridge(normalize=True)\n",
    "\n",
    "#regressor is GridSearchCV, and have to pass in a bunch of parameters here\n",
    "reg = GridSearchCV(ridge, params, scoring = 'neg_mean_squared_error', cv = 5)#1st is algorithm we're dealing with (ridge)\n",
    "\n",
    "reg.fit(trainX, trainY)"
   ]
  },
  {
   "cell_type": "code",
   "execution_count": 416,
   "id": "e12f931c-600e-4182-b151-9fbfb00b0b8d",
   "metadata": {},
   "outputs": [
    {
     "data": {
      "text/plain": [
       "-19161218.498363636"
      ]
     },
     "execution_count": 416,
     "metadata": {},
     "output_type": "execute_result"
    }
   ],
   "source": [
    "reg.best_score_"
   ]
  },
  {
   "cell_type": "code",
   "execution_count": 417,
   "id": "7b96fe85-961a-4bdc-a0aa-aa70ab329db8",
   "metadata": {},
   "outputs": [
    {
     "data": {
      "text/plain": [
       "25707177.660991386"
      ]
     },
     "execution_count": 417,
     "metadata": {},
     "output_type": "execute_result"
    }
   ],
   "source": [
    "mean_squared_error(testY, reg.predict(testX))"
   ]
  },
  {
   "cell_type": "code",
   "execution_count": 418,
   "id": "15389b1b-24a8-45a3-a8f2-486dd96c6882",
   "metadata": {},
   "outputs": [
    {
     "data": {
      "text/plain": [
       "{'alpha': 0.01}"
      ]
     },
     "execution_count": 418,
     "metadata": {},
     "output_type": "execute_result"
    }
   ],
   "source": [
    "reg.best_params_"
   ]
  },
  {
   "cell_type": "markdown",
   "id": "3d9ea292-8781-46ae-8715-18ad4b400b3c",
   "metadata": {},
   "source": [
    "As of now, it shows the ideal alpha is .01, and I originally put 10,000. So I will try again with .01"
   ]
  },
  {
   "cell_type": "code",
   "execution_count": 419,
   "id": "01aef2e7-0464-4ede-b7e0-bef6c295bf9b",
   "metadata": {},
   "outputs": [
    {
     "data": {
      "text/plain": [
       "5070.22461642395"
      ]
     },
     "execution_count": 419,
     "metadata": {},
     "output_type": "execute_result"
    }
   ],
   "source": [
    "ridge2 = Ridge(normalize=True,alpha=.01)#when creating instance of ridge, have to tell it what contraint area (Alpha) is. being completely arbituary rn\n",
    "ridge2.fit(trainX, trainY)\n",
    "math.sqrt(mean_squared_error(testY, ridge2.predict(testX)))\n",
    "\n"
   ]
  },
  {
   "cell_type": "code",
   "execution_count": 420,
   "id": "0b2267cf-7563-41bf-bf15-e3567040c07d",
   "metadata": {},
   "outputs": [
    {
     "data": {
      "text/plain": [
       "0.8559196294725622"
      ]
     },
     "execution_count": 420,
     "metadata": {},
     "output_type": "execute_result"
    }
   ],
   "source": [
    "r2_score(testY, ridge2.predict(testX))"
   ]
  },
  {
   "cell_type": "markdown",
   "id": "16a66234-878b-497e-9f04-928b9478d3ad",
   "metadata": {},
   "source": [
    "The mean squared error is now smaller than my normal regression, and the r2 is significantly closer to 1. This means that so far, ridge regression with an alpha of .1 is the best algorithm for this dataset"
   ]
  },
  {
   "cell_type": "markdown",
   "id": "5b6edc14-7e84-4ef3-a775-7de2a1faa6b8",
   "metadata": {},
   "source": [
    "# LASSO #"
   ]
  },
  {
   "cell_type": "code",
   "execution_count": 421,
   "id": "1258db56-016d-4391-806b-abcd0abcda0e",
   "metadata": {},
   "outputs": [
    {
     "data": {
      "text/plain": [
       "10508.044699460163"
      ]
     },
     "execution_count": 421,
     "metadata": {},
     "output_type": "execute_result"
    }
   ],
   "source": [
    "from sklearn.linear_model import Lasso\n",
    "lasso = Lasso(tol=1e-1, alpha=10000) #10000 is arbitruarily chosen here\n",
    "lasso.fit(trainX, trainY)\n",
    "\n",
    "\n",
    "\n",
    "math.sqrt(mean_squared_error(testY, lasso.predict(testX)))\n"
   ]
  },
  {
   "cell_type": "code",
   "execution_count": 422,
   "id": "5554975c-ac29-4a4a-bf44-a46c148af6e3",
   "metadata": {},
   "outputs": [
    {
     "data": {
      "text/plain": [
       "0.3811373954081837"
      ]
     },
     "execution_count": 422,
     "metadata": {},
     "output_type": "execute_result"
    }
   ],
   "source": [
    "r2_score(testY, lasso.predict(testX))"
   ]
  },
  {
   "cell_type": "markdown",
   "id": "f3a0469e-e914-4359-8026-c9b30f700dc4",
   "metadata": {},
   "source": [
    "So far, this is not an improvement from Ridge or normal linear regression"
   ]
  },
  {
   "cell_type": "markdown",
   "id": "c5d8e339-b1e6-4a40-8565-376a721142f0",
   "metadata": {},
   "source": [
    "# Grid Search with Lasso #"
   ]
  },
  {
   "cell_type": "code",
   "execution_count": 423,
   "id": "89825526-dc47-44e6-a932-c35de0f0cc1d",
   "metadata": {},
   "outputs": [
    {
     "data": {
      "text/plain": [
       "GridSearchCV(cv=5, estimator=Lasso(tol=0.1),\n",
       "             param_grid={'alpha': [0.001, 0.01, 0.1, 1, 10, 15, 50, 100, 10000,\n",
       "                                   10000]},\n",
       "             scoring='neg_mean_squared_error')"
      ]
     },
     "execution_count": 423,
     "metadata": {},
     "output_type": "execute_result"
    }
   ],
   "source": [
    "from sklearn.model_selection import GridSearchCV\n",
    "#set up a bunch of parameters, which will be all the hyperparameters:\n",
    "params = { 'alpha' : [0.001, 0.01, 0.1, 1, 10, 15, 50, 100, 10000, 10000]} #alpha is a dictionary here\n",
    "#just arbituarily choosing some numbers. can also write 0.001 as 1e-3\n",
    "#is common to move in powers of 10 in CS\n",
    "\n",
    "lasso = Lasso(tol=1e-1)\n",
    "\n",
    "#regressor is GridSearchCV, and have to pass in a bunch of parameters here\n",
    "reg = GridSearchCV(lasso, params, scoring = 'neg_mean_squared_error', cv = 5)#1st is algorithm we're dealing with\n",
    "\n",
    "reg.fit(trainX, trainY)"
   ]
  },
  {
   "cell_type": "code",
   "execution_count": 424,
   "id": "90621100-9913-4fa7-9929-81ab88dca33c",
   "metadata": {},
   "outputs": [
    {
     "data": {
      "text/plain": [
       "27393606.96193216"
      ]
     },
     "execution_count": 424,
     "metadata": {},
     "output_type": "execute_result"
    }
   ],
   "source": [
    "mean_squared_error(testY, reg.predict(testX))"
   ]
  },
  {
   "cell_type": "code",
   "execution_count": 425,
   "id": "5b72b7de-f8ae-43f2-92a9-1023394ee0d2",
   "metadata": {},
   "outputs": [
    {
     "data": {
      "text/plain": [
       "{'alpha': 50}"
      ]
     },
     "execution_count": 425,
     "metadata": {},
     "output_type": "execute_result"
    }
   ],
   "source": [
    "reg.best_params_"
   ]
  },
  {
   "cell_type": "markdown",
   "id": "0c52cd98-8acf-4dee-8955-26eab89cc634",
   "metadata": {},
   "source": [
    "As with ridge, it says that 0.01 would be the best value for alpha, but I originally put 10,000. So I will try it again with .01"
   ]
  },
  {
   "cell_type": "code",
   "execution_count": 426,
   "id": "5dd9b1f2-4511-43f6-92f4-0ce54c48fc62",
   "metadata": {},
   "outputs": [
    {
     "data": {
      "text/plain": [
       "6407.707367800956"
      ]
     },
     "execution_count": 426,
     "metadata": {},
     "output_type": "execute_result"
    }
   ],
   "source": [
    "lasso = Lasso(tol=1e-1, alpha=.01) #10000 is arbitruarily chosen here\n",
    "lasso.fit(trainX, trainY)\n",
    "math.sqrt(mean_squared_error(testY, lasso.predict(testX)))"
   ]
  },
  {
   "cell_type": "code",
   "execution_count": 427,
   "id": "9a26bab0-a495-472d-a442-becbed8834e9",
   "metadata": {},
   "outputs": [
    {
     "data": {
      "text/plain": [
       "0.7698792624018402"
      ]
     },
     "execution_count": 427,
     "metadata": {},
     "output_type": "execute_result"
    }
   ],
   "source": [
    "r2_score(testY, lasso.predict(testX))"
   ]
  },
  {
   "cell_type": "markdown",
   "id": "63053d0c-073d-4fa1-96b7-5fb61065ae29",
   "metadata": {},
   "source": [
    "lasso is slighly better than normal linear regression with an r2 score of .76 compared to .74, but it is still not better than ridge"
   ]
  },
  {
   "cell_type": "markdown",
   "id": "745b94ee-4e1e-4c80-a270-707947aff957",
   "metadata": {},
   "source": [
    "# Polynomial Regression #"
   ]
  },
  {
   "cell_type": "code",
   "execution_count": 428,
   "id": "c55c2d8a-d385-4aa0-bc04-a6204db5de29",
   "metadata": {},
   "outputs": [
    {
     "data": {
      "text/plain": [
       "LinearRegression()"
      ]
     },
     "execution_count": 428,
     "metadata": {},
     "output_type": "execute_result"
    }
   ],
   "source": [
    "#now see with polynomials\n",
    "\n",
    "from sklearn.preprocessing import PolynomialFeatures\n",
    "targets = train_y\n",
    "p2 = PolynomialFeatures(degree=2)\n",
    "poly_x = p2.fit_transform(features)\n",
    "#taking square of features which is gonna be here in poly_x\n",
    "regp2 = LinearRegression() #now that feature space is a sphere, we will just run linear regression again\n",
    "regp2.fit(poly_x, targets)"
   ]
  },
  {
   "cell_type": "code",
   "execution_count": 429,
   "id": "57e902a5-229e-489d-99b1-eb9c5bdce5cd",
   "metadata": {},
   "outputs": [
    {
     "data": {
      "text/plain": [
       "19528.38466870617"
      ]
     },
     "execution_count": 429,
     "metadata": {},
     "output_type": "execute_result"
    }
   ],
   "source": [
    "math.sqrt(mean_squared_error(targets, regp2.predict(poly_x)))"
   ]
  },
  {
   "cell_type": "code",
   "execution_count": 430,
   "id": "e0cca4f1-1919-4887-a696-9d6f980cb1e7",
   "metadata": {},
   "outputs": [
    {
     "data": {
      "text/plain": [
       "20198.229263777335"
      ]
     },
     "execution_count": 430,
     "metadata": {},
     "output_type": "execute_result"
    }
   ],
   "source": [
    "p3 = PolynomialFeatures(degree = 3)\n",
    "poly_x3 = p3.fit_transform(features)\n",
    "regp3 = LinearRegression()\n",
    "regp3.fit(poly_x3, targets)\n",
    "\n",
    "math.sqrt(mean_squared_error(targets, regp3.predict(poly_x3)))"
   ]
  },
  {
   "cell_type": "code",
   "execution_count": 431,
   "id": "02773254-ace2-4095-80cf-1aa3d3e44674",
   "metadata": {},
   "outputs": [
    {
     "data": {
      "text/plain": [
       "21356.61605440341"
      ]
     },
     "execution_count": 431,
     "metadata": {},
     "output_type": "execute_result"
    }
   ],
   "source": [
    "p1 = PolynomialFeatures(degree = 1)\n",
    "poly_x1 = p1.fit_transform(features)\n",
    "regp1 = LinearRegression()\n",
    "regp1.fit(poly_x1, targets)\n",
    "\n",
    "math.sqrt(mean_squared_error(targets, regp1.predict(poly_x1)))"
   ]
  },
  {
   "cell_type": "markdown",
   "id": "f21cf54a-bb67-48c5-bc75-ec8d4b74afe7",
   "metadata": {},
   "source": [
    "These attempts all have a significantly higher mean squared error than ridge, lasso, and linear regression. This shows polynomial regression is not ideal for this dataset"
   ]
  },
  {
   "cell_type": "markdown",
   "id": "e9585e71-47e8-4644-97e3-a36ac9e442b9",
   "metadata": {},
   "source": [
    "# Part 3, writing to CSV #"
   ]
  },
  {
   "cell_type": "code",
   "execution_count": 432,
   "id": "e963cc12-2372-40d1-9851-a250d6385f8b",
   "metadata": {},
   "outputs": [],
   "source": [
    "best_prediction = ridge2.predict(testX)\n",
    "final_df = pd.DataFrame(best_prediction)\n",
    "final_df.to_csv('output.csv', header=False)"
   ]
  },
  {
   "cell_type": "markdown",
   "id": "59fe3d59-e494-44dc-b9a7-e0e5d75d8afd",
   "metadata": {},
   "source": [
    "And now I have fully loaded my predictions to a CSV titled output.csv. \n",
    "I ended up using ridge regression, because through my tests, it gave me the r2 score closest to 1 and the lowest mean squared error."
   ]
  },
  {
   "cell_type": "code",
   "execution_count": null,
   "id": "781702e4-fa3b-435f-92a5-a4dc24d26841",
   "metadata": {},
   "outputs": [],
   "source": []
  }
 ],
 "metadata": {
  "kernelspec": {
   "display_name": "Python 3",
   "language": "python",
   "name": "python3"
  },
  "language_info": {
   "codemirror_mode": {
    "name": "ipython",
    "version": 3
   },
   "file_extension": ".py",
   "mimetype": "text/x-python",
   "name": "python",
   "nbconvert_exporter": "python",
   "pygments_lexer": "ipython3",
   "version": "3.8.8"
  }
 },
 "nbformat": 4,
 "nbformat_minor": 5
}
